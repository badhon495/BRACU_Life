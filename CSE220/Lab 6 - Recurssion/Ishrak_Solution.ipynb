{
  "cells": [
    {
      "cell_type": "markdown",
      "metadata": {
        "id": "w0mdAXy7AirE"
      },
      "source": [
        "## 1"
      ]
    },
    {
      "cell_type": "code",
      "execution_count": null,
      "metadata": {
        "colab": {
          "base_uri": "https://localhost:8080/"
        },
        "id": "wWaqMHgk_v9U",
        "outputId": "34140ba6-58db-400a-cb1b-00826880c5e2"
      },
      "outputs": [
        {
          "output_type": "stream",
          "name": "stdout",
          "text": [
            "120\n"
          ]
        }
      ],
      "source": [
        "#1 : Factorial\n",
        "def fact(n):\n",
        "  if n == 0 or n == 1:\n",
        "    return 1\n",
        "  else:\n",
        "    return n*fact(n-1)\n",
        "#=======================\n",
        "print(fact(5))"
      ]
    },
    {
      "cell_type": "code",
      "execution_count": null,
      "metadata": {
        "colab": {
          "base_uri": "https://localhost:8080/"
        },
        "id": "_SoMrVdtBdaa",
        "outputId": "58921a19-79ff-4f24-a059-371a27c91fd5"
      },
      "outputs": [
        {
          "output_type": "stream",
          "name": "stdout",
          "text": [
            "8\n"
          ]
        }
      ],
      "source": [
        "#2 : nth fibonacci\n",
        "def fibo(n):\n",
        "  if n == 0 or n == 1:\n",
        "    return n\n",
        "  else:\n",
        "    return fibo(n-1)+fibo(n-2)\n",
        "#================================\n",
        "print(fibo(6))"
      ]
    },
    {
      "cell_type": "code",
      "execution_count": null,
      "metadata": {
        "colab": {
          "base_uri": "https://localhost:8080/"
        },
        "id": "UkVCXB9oB_KQ",
        "outputId": "3cd645b0-d9cf-4b7d-d078-aaa25a23ae6a"
      },
      "outputs": [
        {
          "output_type": "stream",
          "name": "stdout",
          "text": [
            "1\n",
            "2\n",
            "3\n",
            "4\n",
            "5\n",
            "6\n"
          ]
        }
      ],
      "source": [
        "#3 : printing array\n",
        "def recPrint(arr):\n",
        "  if len(arr) == 1:\n",
        "    print(arr[0])\n",
        "  else:\n",
        "    print(arr[0])\n",
        "    return recPrint(arr[1:])\n",
        "#============================\n",
        "ary = [1,2,3,4,5,6]\n",
        "recPrint(ary)"
      ]
    },
    {
      "cell_type": "code",
      "execution_count": null,
      "metadata": {
        "colab": {
          "base_uri": "https://localhost:8080/"
        },
        "id": "6IhHahgbDOjn",
        "outputId": "2bb370ef-2d3e-4c0e-af20-f73767f5b2c4"
      },
      "outputs": [
        {
          "output_type": "execute_result",
          "data": {
            "text/plain": [
              "25"
            ]
          },
          "metadata": {},
          "execution_count": 4
        }
      ],
      "source": [
        "#4 : power\n",
        "def expo(b,p):\n",
        "  if p == 0:\n",
        "    return 1\n",
        "  else:\n",
        "    return b*expo(b,p-1)\n",
        "#=======================\\\n",
        "expo(5,2)"
      ]
    },
    {
      "cell_type": "markdown",
      "metadata": {
        "id": "Axi6OVzTD2gg"
      },
      "source": [
        "## 2"
      ]
    },
    {
      "cell_type": "code",
      "execution_count": null,
      "metadata": {
        "id": "LMFAO1hiD4Bd",
        "colab": {
          "base_uri": "https://localhost:8080/"
        },
        "outputId": "30f64b85-d0ec-4af3-f9f7-c3ea5f59f0db"
      },
      "outputs": [
        {
          "output_type": "execute_result",
          "data": {
            "text/plain": [
              "1010"
            ]
          },
          "metadata": {},
          "execution_count": 5
        }
      ],
      "source": [
        "#a : Binary Number\n",
        "def bin(dec):\n",
        "  if dec == 0 or dec == 1:\n",
        "    return dec\n",
        "  return int(str(bin(dec//2))+str(dec%2))\n",
        "#==========================================\n",
        "bin(10)"
      ]
    },
    {
      "cell_type": "code",
      "source": [
        "class Node:\n",
        "  def __init__(self,val,next):\n",
        "    self.val = val\n",
        "    self.next = next \n",
        "class LinkedList:\n",
        "  def __init__(self,arr):\n",
        "    self.head = Node(arr[0],None)\n",
        "    temp = self.head\n",
        "    for i in range(1,len(arr)):\n",
        "      new_n = Node(arr[i],None)\n",
        "      temp.next = new_n\n",
        "      temp = new_n"
      ],
      "metadata": {
        "id": "rKugT9Nc1yWy"
      },
      "execution_count": null,
      "outputs": []
    },
    {
      "cell_type": "code",
      "execution_count": null,
      "metadata": {
        "id": "xn8qJpSmFRjc",
        "colab": {
          "base_uri": "https://localhost:8080/"
        },
        "outputId": "6c884891-b8e4-439f-c7c2-05d3ed22ca8b"
      },
      "outputs": [
        {
          "output_type": "execute_result",
          "data": {
            "text/plain": [
              "15"
            ]
          },
          "metadata": {},
          "execution_count": 7
        }
      ],
      "source": [
        "#b : singly linked list add\n",
        "def addLL(h):\n",
        "  if h.next == None:\n",
        "    return h.val\n",
        "  else:\n",
        "    return h.val + addLL(h.next)\n",
        "#===========================================\n",
        "LL = LinkedList([1,2,3,4,5])\n",
        "addLL(LL.head)"
      ]
    },
    {
      "cell_type": "code",
      "source": [
        "#c : reverse LL print\n",
        "def revPrinter(h):\n",
        "  if h.next == None:\n",
        "    print(h.val)\n",
        "    return\n",
        "  revPrinter(h.next)\n",
        "  print(h.val)\n",
        "#==========================\n",
        "LL = LinkedList([1,2,3,4,5])\n",
        "revPrinter(LL.head)"
      ],
      "metadata": {
        "colab": {
          "base_uri": "https://localhost:8080/"
        },
        "id": "3Tscuh00Kmhz",
        "outputId": "25f87067-92fd-4295-8d1b-7c650baa9bd7"
      },
      "execution_count": null,
      "outputs": [
        {
          "output_type": "stream",
          "name": "stdout",
          "text": [
            "5\n",
            "4\n",
            "3\n",
            "2\n",
            "1\n"
          ]
        }
      ]
    },
    {
      "cell_type": "markdown",
      "source": [
        "## 3"
      ],
      "metadata": {
        "id": "tfEHdgphajSV"
      }
    },
    {
      "cell_type": "code",
      "source": [
        "#house of cards\n",
        "def hocBuilder(height):\n",
        "  if height == 0:\n",
        "    return 0\n",
        "  if height == 1:\n",
        "    return 8\n",
        "  return 5+hocBuilder(height-1)\n",
        "hocBuilder(4)"
      ],
      "metadata": {
        "colab": {
          "base_uri": "https://localhost:8080/"
        },
        "id": "jUv_HmDoakzb",
        "outputId": "05e9edee-ab84-4b87-de37-e3b881723d36"
      },
      "execution_count": null,
      "outputs": [
        {
          "output_type": "execute_result",
          "data": {
            "text/plain": [
              "23"
            ]
          },
          "metadata": {},
          "execution_count": 9
        }
      ]
    },
    {
      "cell_type": "markdown",
      "source": [
        "## 4"
      ],
      "metadata": {
        "id": "uuHHLikBDmYe"
      }
    },
    {
      "cell_type": "code",
      "source": [
        "#a\n",
        "def printRow(n):\n",
        "  if n == 1:\n",
        "    print(1, end =\" \") \n",
        "    return\n",
        "  printRow(n-1)\n",
        "  print(n,end=\" \")\n",
        "def printCol(n):\n",
        "  if n == 1:\n",
        "    print(1,end = \" \")\n",
        "    return\n",
        "  printCol(n-1)\n",
        "  print()\n",
        "  printRow(n)\n",
        "printCol(5)"
      ],
      "metadata": {
        "colab": {
          "base_uri": "https://localhost:8080/"
        },
        "id": "pznRf-iREc6k",
        "outputId": "fee753b6-8acb-4553-b15b-430f235ba456"
      },
      "execution_count": null,
      "outputs": [
        {
          "output_type": "stream",
          "name": "stdout",
          "text": [
            "1 \n",
            "1 2 \n",
            "1 2 3 \n",
            "1 2 3 4 \n",
            "1 2 3 4 5 "
          ]
        }
      ]
    },
    {
      "cell_type": "code",
      "source": [
        "#b\n",
        "def gap(n):\n",
        "  if n == 0:\n",
        "    return\n",
        "  print(\" \", end=\" \")\n",
        "  gap(n-1)\n",
        "def rowPrint(n):\n",
        "  if n == 1:\n",
        "    print(1, end = \" \")\n",
        "    return\n",
        "  rowPrint(n-1)\n",
        "  print(n, end = \" \")\n",
        "def colPrint(n,m):\n",
        "  if n == 1:\n",
        "    gap(m-n)\n",
        "    print(n, end = \" \")\n",
        "    return\n",
        "  colPrint(n-1,m)\n",
        "  print()\n",
        "  gap(m-n)\n",
        "  rowPrint(n)\n",
        "colPrint(5,5)"
      ],
      "metadata": {
        "colab": {
          "base_uri": "https://localhost:8080/"
        },
        "id": "0NcHXcZyFGT3",
        "outputId": "7474e444-1bae-4f6e-c67d-74c856ee9528"
      },
      "execution_count": null,
      "outputs": [
        {
          "output_type": "stream",
          "name": "stdout",
          "text": [
            "        1 \n",
            "      1 2 \n",
            "    1 2 3 \n",
            "  1 2 3 4 \n",
            "1 2 3 4 5 "
          ]
        }
      ]
    },
    {
      "cell_type": "markdown",
      "source": [
        "## 5"
      ],
      "metadata": {
        "id": "F-tAuIzQwzoJ"
      }
    },
    {
      "cell_type": "code",
      "source": [
        "import sys\n",
        "sys.setrecursionlimit(150000)\n",
        "\n",
        "class FinalQ():\n",
        "  def calcProfit(self,investment):\n",
        "    if investment <= 25000:\n",
        "      return 0.0\n",
        "    elif 25000 < investment <= 100000:\n",
        "      return 4.5 + self.calcProfit(investment-100)\n",
        "    else:\n",
        "      return 8 + self.calcProfit(investment-100)   \n",
        "  def print(self,array,idx):\n",
        "    if idx<len(array):\n",
        "      profit = self.calcProfit(array[idx])\n",
        "      print(f\"Investment :{array[idx]} , Profit : {profit}\")\n",
        "      self.print(array,idx+1)\n",
        "#======================================================================\n",
        "#Tester \n",
        "array=[25000,100000,250000,350000] \n",
        "f = FinalQ() \n",
        "f.print(array,0)"
      ],
      "metadata": {
        "id": "7Y9GJBNYw1fa",
        "colab": {
          "base_uri": "https://localhost:8080/"
        },
        "outputId": "23bcf871-60ba-4fac-d3f7-7bcd16d7d91c"
      },
      "execution_count": 2,
      "outputs": [
        {
          "output_type": "stream",
          "name": "stdout",
          "text": [
            "Investment :25000 , Profit : 0.0\n",
            "Investment :100000 , Profit : 3375.0\n",
            "Investment :250000 , Profit : 15375.0\n",
            "Investment :350000 , Profit : 23375.0\n"
          ]
        }
      ]
    },
    {
      "cell_type": "markdown",
      "source": [
        "## Class Performance"
      ],
      "metadata": {
        "id": "0abgoFWeSz9U"
      }
    },
    {
      "cell_type": "code",
      "source": [
        "def flattenList(arr,output):\n",
        "  if len(arr) == 0:\n",
        "    return\n",
        "  i = arr.pop(0) \n",
        "  if type(i) != int:\n",
        "    flattenList(i,output)\n",
        "  else:\n",
        "    output.append(i)\n",
        "    flattenList(arr,output)\n",
        "  flattenList(arr,output)\n",
        "  return output\n",
        "givenList = [1, [2, [3, [4], 5], 6], 7, 8, [9, [[10, 11], 12], 13], 14, [15, [16, [17]]]]\n",
        "out = []\n",
        "flattenList(givenList,out)   "
      ],
      "metadata": {
        "colab": {
          "base_uri": "https://localhost:8080/"
        },
        "id": "9Z2YhxENS6Ij",
        "outputId": "b4f6dc0c-0ec6-48f7-e258-50abf03ff0cf"
      },
      "execution_count": 4,
      "outputs": [
        {
          "output_type": "execute_result",
          "data": {
            "text/plain": [
              "[1, 2, 3, 4, 5, 6, 7, 8, 9, 10, 11, 12, 13, 14, 15, 16, 17]"
            ]
          },
          "metadata": {},
          "execution_count": 4
        }
      ]
    },
    {
      "cell_type": "markdown",
      "source": [
        "## Updated Task"
      ],
      "metadata": {
        "id": "Xb9GKOz7QAMx"
      }
    },
    {
      "cell_type": "code",
      "source": [
        "class Node:\n",
        "  def __init__(self, next, bottom, val): \n",
        "    self.next = next # for next item \n",
        "    self.bottom = bottom # for nested item check \n",
        "    self.val = val # The integer value.\n",
        "class LL():\n",
        "  def __init__(self,lis):\n",
        "    i = lis[0]\n",
        "    if type(i) == int:\n",
        "        self.head = Node(None,None,i)\n",
        "    else:\n",
        "        self.head = Node(None,i,None)\n",
        "    temp = self.head\n",
        "    for i in range(1,len(lis)):\n",
        "      if type(lis[i]) == int:\n",
        "        nn = Node(None,None,lis[i])\n",
        "      else:\n",
        "        nn = Node(None,lis[i],None)\n",
        "      temp.next = nn\n",
        "      temp = nn "
      ],
      "metadata": {
        "id": "c31RH9QfQDnJ"
      },
      "execution_count": null,
      "outputs": []
    },
    {
      "cell_type": "code",
      "source": [
        "def flatL(head,output):\n",
        "  if head == None:\n",
        "    return \n",
        "  if head.bottom == None:\n",
        "    data = head.val\n",
        "    output.append(data)\n",
        "  else:\n",
        "    data = head.bottom\n",
        "    ll = LL(data)\n",
        "    my_h = ll.head\n",
        "    flatL(my_h,output)\n",
        "  flatL(head.next,output)\n",
        "  return output\n",
        "#===================================\n",
        "givenList = [1, [2, [3, [4], 5], 6], 7, 8, [9, [[10, 11], 12], 13], 14, [15, [16, [17]]]]\n",
        "new_lis = LL(givenList)\n",
        "my_head = new_lis.head\n",
        "n = my_head\n",
        "op = []\n",
        "flattenedList = flatL(my_head,op)\n",
        "print(flattenedList)"
      ],
      "metadata": {
        "colab": {
          "base_uri": "https://localhost:8080/"
        },
        "id": "L537PZYYSO1D",
        "outputId": "d1b25183-b2cd-4a7e-bd68-ce1504f769b5"
      },
      "execution_count": null,
      "outputs": [
        {
          "output_type": "stream",
          "name": "stdout",
          "text": [
            "[1, 2, 3, 4, 5, 6, 7, 8, 9, 10, 11, 12, 13, 14, 15, 16, 17]\n"
          ]
        }
      ]
    }
  ],
  "metadata": {
    "colab": {
      "provenance": []
    },
    "kernelspec": {
      "display_name": "Python 3",
      "name": "python3"
    },
    "language_info": {
      "name": "python"
    }
  },
  "nbformat": 4,
  "nbformat_minor": 0
}