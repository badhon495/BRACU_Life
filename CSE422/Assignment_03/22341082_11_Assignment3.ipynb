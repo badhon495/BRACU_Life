{
  "nbformat": 4,
  "nbformat_minor": 0,
  "metadata": {
    "colab": {
      "provenance": []
    },
    "kernelspec": {
      "name": "python3",
      "display_name": "Python 3"
    },
    "language_info": {
      "name": "python"
    }
  },
  "cells": [
    {
      "cell_type": "markdown",
      "source": [
        "### Importing library"
      ],
      "metadata": {
        "id": "0o3ulO2huZRZ"
      }
    },
    {
      "cell_type": "code",
      "execution_count": null,
      "metadata": {
        "id": "5qENzRgMtz1F"
      },
      "outputs": [],
      "source": [
        "import random"
      ]
    },
    {
      "cell_type": "markdown",
      "source": [
        "### MinMax"
      ],
      "metadata": {
        "id": "NRnQolr3unHJ"
      }
    },
    {
      "cell_type": "code",
      "source": [
        "def minimax(level, index, is_maximizing_player, table, alpha, beta, branch, comparison_count):\n",
        "    if level == len(table) - 1:\n",
        "        return table[level][index], comparison_count\n",
        "\n",
        "    if is_maximizing_player:\n",
        "        max_eval = float('-inf')\n",
        "        for branch_index in range(branch):\n",
        "            eval_value, comparison_count = minimax(\n",
        "                level + 1, index * branch + branch_index, False, table, alpha, beta, branch, comparison_count + 1)\n",
        "            max_eval = max(max_eval, eval_value)\n",
        "            alpha = max(alpha, max_eval)\n",
        "            if beta <= alpha:\n",
        "                break\n",
        "        return max_eval, comparison_count\n",
        "    else:\n",
        "        min_eval = float('inf')\n",
        "        for branch_index in range(branch):\n",
        "            eval_value, comparison_count = minimax(\n",
        "                level + 1, index * branch + branch_index, True, table, alpha, beta, branch, comparison_count + 1)\n",
        "            min_eval = min(min_eval, eval_value)\n",
        "            beta = min(beta, min_eval)\n",
        "            if beta <= alpha:\n",
        "                break\n",
        "        return min_eval, comparison_count"
      ],
      "metadata": {
        "id": "rdG1eSF1uHYE"
      },
      "execution_count": null,
      "outputs": []
    },
    {
      "cell_type": "markdown",
      "source": [
        "### Input Processing"
      ],
      "metadata": {
        "id": "n1RGtnwTurTR"
      }
    },
    {
      "cell_type": "code",
      "source": [
        "def get_input():\n",
        "    student_id = list(map(int, input(\"1. Enter your student id: \")))\n",
        "    min_damage, max_damage = map(int, input(\n",
        "        \"2. Minimum and Maximum value for the range of negative HP: \").split(' '))\n",
        "\n",
        "    turn, branch, HP = student_id[0], student_id[2], (\n",
        "        student_id[7]*10 + student_id[6])\n",
        "    row = (turn*2)+1\n",
        "    return student_id, min_damage, max_damage, turn, branch, HP, row"
      ],
      "metadata": {
        "id": "ExDy_o3-uIuL"
      },
      "execution_count": null,
      "outputs": []
    },
    {
      "cell_type": "markdown",
      "source": [
        "### Game Tree"
      ],
      "metadata": {
        "id": "jv8I6E9cu0GW"
      }
    },
    {
      "cell_type": "code",
      "source": [
        "def create_table(row, branch, rand_start, rand_end):\n",
        "    table = [[0] for _ in range(\n",
        "        row - 1)] + [[random.randint(rand_start, rand_end) for _ in range(branch ** (row - 1))]]\n",
        "    return table"
      ],
      "metadata": {
        "id": "996KlN6FuLmT"
      },
      "execution_count": null,
      "outputs": []
    },
    {
      "cell_type": "markdown",
      "source": [
        "### Output"
      ],
      "metadata": {
        "id": "W2g-9ddTvH9u"
      }
    },
    {
      "cell_type": "code",
      "source": [
        "def print_output(turn, branch, table, HP, comparisons):\n",
        "    depth = turn*2\n",
        "    leftLife = (HP-table[0][0])\n",
        "    print(\n",
        "        f\"Depth and branch ratio is {depth}:{branch}\\nTerminal States (leaf node values) are {table[-1]}\\nLeft life(HP) of the defender after maximum damage caused by the attacker is {leftLife}\\nAfter Alpha-Beta Pruning Leaf Node Comparisons {comparisons}\")"
      ],
      "metadata": {
        "id": "arKOCAa9uTN-"
      },
      "execution_count": null,
      "outputs": []
    },
    {
      "cell_type": "markdown",
      "source": [
        "### Main Function"
      ],
      "metadata": {
        "id": "A1H6JhmLvLmI"
      }
    },
    {
      "cell_type": "code",
      "source": [
        "def main():\n",
        "    id, rand_start, rand_end, turn, branch, HP, row = get_input()\n",
        "    table = create_table(row, branch, rand_start, rand_end)\n",
        "    table[0][0], comparisons = minimax(\n",
        "        0, 0, True, table, float('-inf'), float('inf'), branch, 0)\n",
        "    print_output(turn, branch, table, HP, comparisons)\n"
      ],
      "metadata": {
        "id": "RpzksOG4uVtl"
      },
      "execution_count": null,
      "outputs": []
    },
    {
      "cell_type": "code",
      "source": [
        "if __name__ == \"__main__\":\n",
        "    main()"
      ],
      "metadata": {
        "colab": {
          "base_uri": "https://localhost:8080/"
        },
        "id": "c9qXE0ZovpPm",
        "outputId": "ac88f39f-c9ee-4540-e70e-7b5cb90054ad"
      },
      "execution_count": null,
      "outputs": [
        {
          "output_type": "stream",
          "name": "stdout",
          "text": [
            "1. Enter your student id: 20201003\n",
            "2. Minimum and Maximum value for the range of negative HP: 5 20\n",
            "Depth and branch ratio is 4:2\n",
            "Terminal States (leaf node values) are [5, 15, 15, 19, 13, 13, 6, 7, 20, 10, 18, 20, 19, 17, 19, 6]\n",
            "Left life(HP) of the defender after maximum damage caused by the attacker is 13\n",
            "After Alpha-Beta Pruning Leaf Node Comparisons 29\n"
          ]
        }
      ]
    }
  ]
}