{
  "nbformat": 4,
  "nbformat_minor": 0,
  "metadata": {
    "colab": {
      "provenance": []
    },
    "kernelspec": {
      "name": "python3",
      "display_name": "Python 3"
    },
    "language_info": {
      "name": "python"
    }
  },
  "cells": [
    {
      "cell_type": "code",
      "execution_count": 3,
      "metadata": {
        "id": "zAYBU_580vLa"
      },
      "outputs": [],
      "source": [
        "input_file = open('/content/sample_data/input 2.txt', 'r')\n",
        "output_file = open('/content/sample_data/output2', 'w')\n",
        "\n",
        "line = input_file.readline().split()\n",
        "num_tasks = int(line[0])\n",
        "num_people = int(line[1])\n",
        "\n",
        "tasks = []\n",
        "for i in range(num_tasks):\n",
        "    line = input_file.readline().split()\n",
        "    start_time = int(line[0])\n",
        "    end_time = int(line[1])\n",
        "    tasks.append((start_time, end_time))\n",
        "\n",
        "tasks.sort(key=lambda x: x[1])\n",
        "assigned = [False] * num_tasks\n",
        "completed_tasks = 0\n",
        "end_time = 0\n",
        "\n",
        "for i in range(num_people):\n",
        "    for j in range(num_tasks):\n",
        "        if not assigned[j] and tasks[j][0] >= end_time:\n",
        "            assigned[j] = True\n",
        "            completed_tasks += 1\n",
        "            end_time = tasks[j][1]\n",
        "            break\n",
        "\n",
        "output_file.write(str(completed_tasks))\n",
        "\n",
        "input_file.close()\n",
        "output_file.close()"
      ]
    }
  ]
}