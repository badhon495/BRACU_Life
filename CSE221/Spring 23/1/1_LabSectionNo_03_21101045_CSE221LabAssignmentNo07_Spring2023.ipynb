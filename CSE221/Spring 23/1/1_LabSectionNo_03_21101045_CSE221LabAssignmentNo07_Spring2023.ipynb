{
  "nbformat": 4,
  "nbformat_minor": 0,
  "metadata": {
    "colab": {
      "provenance": []
    },
    "kernelspec": {
      "name": "python3",
      "display_name": "Python 3"
    },
    "language_info": {
      "name": "python"
    }
  },
  "cells": [
    {
      "cell_type": "code",
      "execution_count": 1,
      "metadata": {
        "id": "mc5eUf_Hyuvb"
      },
      "outputs": [],
      "source": [
        "input_file = open('/content/sample_data/input 1.txt', 'r')\n",
        "output_file = open('/content/sample_data/output1', 'w')\n",
        "\n",
        "n = int(input_file.readline())\n",
        "tasks = []\n",
        "for i in range(n):\n",
        "    line = input_file.readline().split()\n",
        "    start = int(line[0])\n",
        "    end = int(line[1])\n",
        "    tasks.append((start, end))\n",
        "tasks.sort(key=lambda task: task[1])\n",
        "selected = []\n",
        "end_time = -1\n",
        "for task in tasks:\n",
        "    if task[0] >= end_time:\n",
        "        selected.append(task)\n",
        "        end_time = task[1]\n",
        "\n",
        "output_file.write(str(len(selected)) + '\\n')\n",
        "for task in selected:\n",
        "    output_file.write(str(task[0]) + ' ' + str(task[1]) + '\\n')\n",
        "\n",
        "input_file.close()\n",
        "output_file.close()\n"
      ]
    }
  ]
}