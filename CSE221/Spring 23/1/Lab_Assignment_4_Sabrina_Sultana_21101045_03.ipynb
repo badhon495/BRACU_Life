{
  "nbformat": 4,
  "nbformat_minor": 0,
  "metadata": {
    "colab": {
      "provenance": []
    },
    "kernelspec": {
      "name": "python3",
      "display_name": "Python 3"
    },
    "language_info": {
      "name": "python"
    }
  },
  "cells": [
    {
      "cell_type": "code",
      "execution_count": 8,
      "metadata": {
        "colab": {
          "base_uri": "https://localhost:8080/",
          "height": 130
        },
        "id": "JD2_XWmmv_kh",
        "outputId": "a9875117-7bc6-4060-de96-400688dca234"
      },
      "outputs": [
        {
          "output_type": "error",
          "ename": "IndentationError",
          "evalue": "ignored",
          "traceback": [
            "\u001b[0;36m  File \u001b[0;32m\"<ipython-input-8-f2a74e15c1f5>\"\u001b[0;36m, line \u001b[0;32m2\u001b[0m\n\u001b[0;31m    graph = {}\u001b[0m\n\u001b[0m    ^\u001b[0m\n\u001b[0;31mIndentationError\u001b[0m\u001b[0;31m:\u001b[0m unexpected indent\n"
          ]
        }
      ],
      "source": [
        "#Answer to the Task no 01\n",
        "def buildGraphUsingDictionary(c, f): \n",
        "    graph = {}\n",
        "    for _ in range(c):\n",
        "        line = f.readline().strip()\n",
        "        a, b = line.split(\",\")\n",
        "        b = b.strip()\n",
        "        if a in graph:\n",
        "            graph[a].append(b)\n",
        "        else:\n",
        "            graph[a] = [b]\n",
        "    printGraph(graph, None)\n",
        "       \n",
        "\n",
        "def buildGraphUsingListofLists(c, f):\n",
        "    listGraph = []\n",
        "    for _ in range(c):\n",
        "        line = f.readline().strip()\n",
        "        a, b = line.split(\",\")\n",
        "        b = b.strip()\n",
        "        listGraph.append([a, b])\n",
        "    printGraph(None, listGraph)\n",
        "\n",
        "def printGraph(graph, listGraph):  \n",
        "    if graph is not None:\n",
        "        for vertex in graph:\n",
        "            print(vertex, end=\" -> \")\n",
        "            print(\",\".join(graph[vertex]))\n",
        "    elif listGraph is not None:\n",
        "        for vertex in listGraph:\n",
        "            print(vertex[0], end=\" -> \")\n",
        "            print(\",\".join(vertex[1:]))\n"
      ]
    },
    {
      "cell_type": "code",
      "source": [
        "#Answer to the Task no 02\n",
        "def find_max(arr):\n",
        "    if len(arr) == 1:\n",
        "        return arr[0]\n",
        "    mid = len(arr) // 2\n",
        "    left_max = find_max(arr[:mid])\n",
        "    right_max = find_max(arr[mid:])\n",
        "    return max(left_max, right_max)\n",
        "\n",
        "input_file = open(\"/content/sample_data/Assignment 4 input 2 Sabrina Sultana_21101045_03.txt\", mode=\"r\")\n",
        "input_data = input_file.readlines()\n",
        "\n",
        "n = int(input_data[0])\n",
        "arr = [int(x) for x in input_data[1].split()]\n",
        "\n",
        "max_val = find_max(arr)\n",
        "\n",
        "output_file = open(\"/content/sample_data/output2\", mode=\"w\")\n",
        "output_file.write(str(max_val))\n",
        "\n",
        "input_file.close()\n",
        "output_file.close()"
      ],
      "metadata": {
        "id": "hmmn7ghybKwv"
      },
      "execution_count": 6,
      "outputs": []
    },
    {
      "cell_type": "code",
      "source": [
        "#Answer to the Task no:03\n",
        "def merge(arr, left, mid, right):\n",
        "    count = 0\n",
        "    left_arr = arr[left:mid+1]\n",
        "    right_arr = arr[mid+1:right+1]\n",
        "    i = j = 0\n",
        "    k = left\n",
        "    while i < len(left_arr) and j < len(right_arr):\n",
        "        if left_arr[i] <= right_arr[j]:\n",
        "            arr[k] = left_arr[i]\n",
        "            i += 1\n",
        "        else:\n",
        "            arr[k] = right_arr[j]\n",
        "            count += mid - left + 1 - i\n",
        "            j += 1\n",
        "        k += 1\n",
        "    while i < len(left_arr):\n",
        "        arr[k] = left_arr[i]\n",
        "        i += 1\n",
        "        k += 1\n",
        "    while j < len(right_arr):\n",
        "        arr[k] = right_arr[j]\n",
        "        j += 1\n",
        "        k += 1\n",
        "    return count\n",
        "\n",
        "def merge_sort(arr, left, right):\n",
        "    if left < right:\n",
        "        mid = (left + right) // 2\n",
        "        count = merge_sort(arr, left, mid)\n",
        "        count += merge_sort(arr, mid+1, right)\n",
        "        count += merge(arr, left, mid, right)\n",
        "        return count\n",
        "    else:\n",
        "        return 0\n",
        "\n",
        "input_file = open(\"/content/sample_data/Assignment 4 input 3 Sabrina Sultana_21101045_03.txt\", mode=\"r\")\n",
        "input_data = input_file.readlines()\n",
        "n = int(input_data[0])\n",
        "arr = list(map(int, input_data[1].split()))\n",
        "\n",
        "count = merge_sort(arr, 0, n-1)\n",
        "\n",
        "output_file = open(\"/content/sample_data/output3\", mode=\"w\")\n",
        "output_file.write(str(count))\n",
        "\n",
        "input_file.close()\n",
        "output_file.close()\n",
        "\n"
      ],
      "metadata": {
        "id": "cBtoUkFniEAp"
      },
      "execution_count": 7,
      "outputs": []
    }
  ]
}