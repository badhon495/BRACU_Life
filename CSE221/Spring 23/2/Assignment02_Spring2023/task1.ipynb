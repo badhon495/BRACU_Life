{
  "nbformat": 4,
  "nbformat_minor": 0,
  "metadata": {
    "colab": {
      "provenance": []
    },
    "kernelspec": {
      "name": "python3",
      "display_name": "Python 3"
    },
    "language_info": {
      "name": "python"
    }
  },
  "cells": [
    {
      "cell_type": "code",
      "source": [
        "#1(a)\n",
        "with open(\"input1a.txt\",\"r\") as inp_file:\n",
        "    n=list(map(int,inp_file.readline().split()))\n",
        "    list1=list(map(int,inp_file.readline().split()))\n",
        "    sum=n[1]\n",
        "    flag=False\n",
        "    for i in range(len(list1)):\n",
        "      if flag==True:\n",
        "        break\n",
        "      else:\n",
        "        for j in range(i+1,len(list1)):\n",
        "          nsum=0 \n",
        "          nsum=list1[i]+list1[j]\n",
        "          if nsum==sum:\n",
        "            print(i+1,end=\" \")\n",
        "            print(j+1)\n",
        "            flag=True\n",
        "    if flag==False:\n",
        "          print(\"Impossible\")"
      ],
      "metadata": {
        "id": "QsxeaoD4-YF5"
      },
      "execution_count": null,
      "outputs": []
    },
    {
      "cell_type": "code",
      "source": [
        "#1(b)\n",
        "with open(\"input1b.txt\",\"r\") as inp_file:\n",
        "    n=list(map(int,inp_file.readline().split()))\n",
        "    list1=list(map(int,inp_file.readline().split()))\n",
        "    sum=n[1]\n",
        "    nlist=[\"A\"]*(sum+1)\n",
        "    value=0\n",
        "    flag=False\n",
        "    for i in range(len(list1)):\n",
        "      if list1[i]<=sum:\n",
        "        value=sum-list1[i]\n",
        "        nlist[value]=i\n",
        "    for j in range(len(list1)):\n",
        "      if list1[j]<=sum:\n",
        "        if flag==True:\n",
        "          break\n",
        "        else:\n",
        "          if nlist[list1[j]]!= \"A\" and nlist[list1[j]]!=j:\n",
        "            print(j+1,end=\" \")\n",
        "            print(nlist[list1[j]]+1)\n",
        "            flag=True\n",
        "    if flag==False:\n",
        "      print(\"Impossible\")"
      ],
      "metadata": {
        "id": "SRK1RSKX5R-u"
      },
      "execution_count": null,
      "outputs": []
    }
  ]
}