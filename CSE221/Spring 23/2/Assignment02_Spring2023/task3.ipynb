{
  "nbformat": 4,
  "nbformat_minor": 0,
  "metadata": {
    "colab": {
      "provenance": []
    },
    "kernelspec": {
      "name": "python3",
      "display_name": "Python 3"
    },
    "language_info": {
      "name": "python"
    }
  },
  "cells": [
    {
      "cell_type": "code",
      "source": [
        "#3\n",
        "with open(\"input3.txt\",\"r\") as inp_file:\n",
        "    store=list(map(int,inp_file.readline().split()))\n",
        "    list1=list(map(int,inp_file.readline().split()))\n",
        "    def merge(list1, l, m, r):\n",
        "        n1 = m - l + 1\n",
        "        n2 = r - m\n",
        "        L = [0] * (n1)\n",
        "        R = [0] * (n2)\n",
        "        for i in range(0, n1):\n",
        "            L[i] = list1[l + i]\n",
        "        for j in range(0, n2):\n",
        "            R[j] = list1[m + 1 + j]\n",
        "  \n",
        "        i = 0     \n",
        "        j = 0     \n",
        "        k = l     \n",
        "\n",
        "        while i < n1 and j < n2:\n",
        "            if L[i] <= R[j]:\n",
        "                list1[k] = L[i]\n",
        "                i += 1\n",
        "            else:\n",
        "                list1[k] = R[j]\n",
        "                j += 1\n",
        "            k += 1\n",
        " \n",
        "        while i < n1:\n",
        "            list1[k] = L[i]\n",
        "            i += 1\n",
        "            k += 1\n",
        "        while j < n2:\n",
        "            list1[k] = R[j]\n",
        "            j += 1\n",
        "            k += 1\n",
        "\n",
        "    def mergeSort(arr, l, r):\n",
        "        if l < r:\n",
        "            m = l+(r-l)//2\n",
        "    \n",
        "            mergeSort(arr, l, m)\n",
        "            mergeSort(arr, m+1, r)\n",
        "            merge(arr, l, m, r)\n",
        "\n",
        "    mergeSort(list1,0,len(list1)-1)\n",
        "    print(list1)"
      ],
      "metadata": {
        "id": "pApEI_g554Ki"
      },
      "execution_count": null,
      "outputs": []
    }
  ]
}