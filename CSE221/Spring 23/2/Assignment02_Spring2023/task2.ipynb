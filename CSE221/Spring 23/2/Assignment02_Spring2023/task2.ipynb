{
  "nbformat": 4,
  "nbformat_minor": 0,
  "metadata": {
    "colab": {
      "provenance": []
    },
    "kernelspec": {
      "name": "python3",
      "display_name": "Python 3"
    },
    "language_info": {
      "name": "python"
    }
  },
  "cells": [
    {
      "cell_type": "code",
      "source": [
        "#2(a)\n",
        "with open(\"input2a.txt\",\"r\") as inp_file:\n",
        "    n1=list(map(int,inp_file.readline().split()))\n",
        "    list1=list(map(int,inp_file.readline().split()))\n",
        "    n2=list(map(int,inp_file.readline().split()))\n",
        "    list2=list(map(int,inp_file.readline().split()))\n",
        "    list3=[]\n",
        "    list3=list1+list2\n",
        "    list3.sort()\n",
        "    print(list3)"
      ],
      "metadata": {
        "id": "CrCS4mJ45kvF"
      },
      "execution_count": null,
      "outputs": []
    },
    {
      "cell_type": "code",
      "source": [
        "#2(b)\n",
        "with open(\"input2b.txt\",\"r\") as inp_file:\n",
        "    n1=list(map(int,inp_file.readline().split()))\n",
        "    list1=list(map(int,inp_file.readline().split()))\n",
        "    n2=list(map(int,inp_file.readline().split()))\n",
        "    list2=list(map(int,inp_file.readline().split()))\n",
        "\n",
        "    list3=[0]* (n1[0]+n2[0])\n",
        "    i=0\n",
        "    j=0\n",
        "    k=0\n",
        "    while i < n1[0] and j < n2[0]:\n",
        "      if list1[i] <= list2[j]:\n",
        "        list3[k]=list1[i]\n",
        "        i+=1\n",
        "      else:\n",
        "        list3[k]=list2[j]\n",
        "        j+=1\n",
        "      k+=1\n",
        "\n",
        "    while i < n1[0]:\n",
        "        list3[k] = list1[i]\n",
        "        i += 1\n",
        "        k += 1\n",
        "    while j < n2[0]:\n",
        "        list3[k] = list2[j]\n",
        "        j += 1\n",
        "        k += 1\n",
        "    print(list3)"
      ],
      "metadata": {
        "id": "mjbYdTQd5qy8"
      },
      "execution_count": null,
      "outputs": []
    }
  ]
}