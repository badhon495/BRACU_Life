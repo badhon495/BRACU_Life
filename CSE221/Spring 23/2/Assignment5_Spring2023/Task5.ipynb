{
  "nbformat": 4,
  "nbformat_minor": 0,
  "metadata": {
    "colab": {
      "provenance": []
    },
    "kernelspec": {
      "name": "python3",
      "display_name": "Python 3"
    },
    "language_info": {
      "name": "python"
    }
  },
  "cells": [
    {
      "cell_type": "code",
      "source": [
        "f1=open('input5.txt','r')\n",
        "f2=open('output5.txt','w')\n",
        "line=f1.readline()\n",
        "line=line.split()\n",
        "vertices=int(line[0])\n",
        "edges=int(line[1])\n",
        "destination=int(line[2])\n",
        "graph={}\n",
        "\n",
        "count=0\n",
        "while count<edges:\n",
        "    line = f1.readline()\n",
        "    line=line.split()\n",
        "    line_alt=[line[1],line[0]]\n",
        "    u=line[0]\n",
        "    v=line[1]\n",
        "    u_alt=line_alt[0]\n",
        "    v_alt=line_alt[1]\n",
        "    if(u in graph):\n",
        "        graph[u].append(v)\n",
        "    else:\n",
        "        graph[u] = [v]\n",
        "    if(u_alt in graph):\n",
        "        graph[u_alt].append(v_alt)\n",
        "    else:\n",
        "        graph[u_alt] = [v_alt]    \n",
        "    count+=1  \n",
        "\n",
        "def shortest_path(graph,root,destination):\n",
        "    pathway=[[root]]\n",
        "    index=0\n",
        "    prev={root}\n",
        "    if root==destination:\n",
        "        return pathway[0]\n",
        "    while index<len(pathway):\n",
        "        current=pathway[index]\n",
        "        prev_ver=current[-1]\n",
        "        next_ver=graph[prev_ver]    \n",
        "        if destination in next_ver:\n",
        "            current.append(destination)\n",
        "            return current\n",
        "        for i in next_ver:\n",
        "            if i not in prev:\n",
        "                new_path=current[:]\n",
        "                new_path.append(i)\n",
        "                pathway.append(new_path)\n",
        "                prev.add(i)\n",
        "        index+=1\n",
        "    return []\n",
        "\n",
        "path_list=shortest_path(graph,'1',str(destination))\n",
        "print('Time:',len(path_list)-1,file=f2)\n",
        "string=''\n",
        "for i in path_list:\n",
        "    string+=i+' '\n",
        "print('Shortest Path:',string,file=f2)\n",
        "f1.close()\n",
        "f2.close()"
      ],
      "metadata": {
        "id": "HsGUa6UbvA4i"
      },
      "execution_count": null,
      "outputs": []
    }
  ]
}