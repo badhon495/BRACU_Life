{
  "nbformat": 4,
  "nbformat_minor": 0,
  "metadata": {
    "colab": {
      "provenance": []
    },
    "kernelspec": {
      "name": "python3",
      "display_name": "Python 3"
    },
    "language_info": {
      "name": "python"
    }
  },
  "cells": [
    {
      "cell_type": "code",
      "source": [
        "f1=open('input3.txt','r')\n",
        "f2=open('output3.txt','w')\n",
        "line=f1.readline()\n",
        "line=line.split()\n",
        "n=int(line[0])\n",
        "c=int(line[1])\n",
        "graph={}\n",
        "\n",
        "count=0\n",
        "while count<c:\n",
        "    line = f1.readline()\n",
        "    line=line.split()\n",
        "    line_alt=[line[1],line[0]]\n",
        "    u=line[0]\n",
        "    v=line[1]\n",
        "    u_alt=line_alt[0]\n",
        "    v_alt=line_alt[1]\n",
        "    if(u in graph):\n",
        "        graph[u].append(v)\n",
        "    else:\n",
        "        graph[u] = [v]\n",
        "    if(u_alt in graph):\n",
        "        graph[u_alt].append(v_alt)\n",
        "    else:\n",
        "        graph[u_alt] = [v_alt]    \n",
        "    count+=1 \n",
        "visit=[]\n",
        "def DFS(visit,graph,source):\n",
        "    if source not in visit:\n",
        "        print(source,end=' ',file=f2)\n",
        "        visit.append(source)\n",
        "        for connections in graph[source]:\n",
        "            DFS(visit,graph,connections)\n",
        "\n",
        "DFS(visit,graph,'1')\n",
        "f1.close()\n",
        "f2.close()\n",
        "\n"
      ],
      "metadata": {
        "id": "ikzy1EvZugmH"
      },
      "execution_count": null,
      "outputs": []
    }
  ]
}