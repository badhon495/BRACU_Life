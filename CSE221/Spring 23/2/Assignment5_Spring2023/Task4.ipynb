{
  "nbformat": 4,
  "nbformat_minor": 0,
  "metadata": {
    "colab": {
      "provenance": []
    },
    "kernelspec": {
      "name": "python3",
      "display_name": "Python 3"
    },
    "language_info": {
      "name": "python"
    }
  },
  "cells": [
    {
      "cell_type": "code",
      "source": [
        "f1=open('input4.txt','r')\n",
        "f2=open('output4.txt','w')\n",
        "list_1=f1.readline()\n",
        "list_1=list_1.split()\n",
        "for i in range(len(list_1)):\n",
        "    list_1[i]=int(list_1[i])\n",
        "\n",
        "vertices=list_1[0]\n",
        "edges=list_1[1]\n",
        "main_list=[]\n",
        "for i in range(vertices+1):\n",
        "    main_list.append([])\n",
        "print(main_list)\n",
        "c=0\n",
        "while c<edges:\n",
        "    line=f1.readline()\n",
        "    line=line.split()\n",
        "    c+=1\n",
        "    index=int(line[0])\n",
        "    main_list[index].append(int(line[1]))\n",
        "print(main_list)\n",
        "\n",
        "def cycle(vertices,edges):\n",
        "    visit=[False]*(vertices+1)\n",
        "    explore=[False]*(vertices+1)\n",
        "    for i in range(vertices):\n",
        "        flag=DFS(i,visit,explore)\n",
        "        if flag==True:\n",
        "            return True\n",
        "    return False\n",
        "\n",
        "def DFS(i,visit,explore):\n",
        "    visit[i]=True\n",
        "    explore[i]=True\n",
        "\n",
        "    for v in main_list[i]:\n",
        "      if visit[v]==False:\n",
        "        if DFS(v,visit,explore)==True:\n",
        "            return True\n",
        "      elif explore[v]==True:\n",
        "        return True\n",
        "    explore[i]=False\n",
        "    return False\n",
        "\n",
        "if cycle(vertices,edges)==True:\n",
        "    print('YES',file=f2)\n",
        "else:\n",
        "    print('NO',file=f2)\n",
        "f1.close()\n",
        "f2.close()"
      ],
      "metadata": {
        "id": "IPoiUoSUuwFa"
      },
      "execution_count": null,
      "outputs": []
    }
  ]
}