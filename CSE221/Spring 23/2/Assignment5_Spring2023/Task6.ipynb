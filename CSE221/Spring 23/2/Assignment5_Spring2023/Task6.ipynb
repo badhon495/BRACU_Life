{
  "nbformat": 4,
  "nbformat_minor": 0,
  "metadata": {
    "colab": {
      "provenance": []
    },
    "kernelspec": {
      "name": "python3",
      "display_name": "Python 3"
    },
    "language_info": {
      "name": "python"
    }
  },
  "cells": [
    {
      "cell_type": "code",
      "source": [
        "f1=open('input6.txt','r')\n",
        "f2=open('output6.txt','w')\n",
        "list_1=f1.readline()\n",
        "list_1=list_1.split()\n",
        "row=int(list_1[0])\n",
        "column=int(list_1[1])\n",
        "main_list=[]\n",
        "for i in range(row):\n",
        "    main_list.append([])\n",
        "\n",
        "c=0\n",
        "while c<row:\n",
        "    line=f1.readline()\n",
        "    line=line.split()\n",
        "    for string in line:\n",
        "        for iteration in range(len(string)):\n",
        "            main_list[c].append(string[iteration])\n",
        "    c+=1\n",
        "for i in range(len(main_list)):\n",
        "    for j in range(len(main_list[i])):\n",
        "        if main_list[i][j]=='.':\n",
        "            main_list[i][j]=1\n",
        "        elif main_list[i][j]=='D':\n",
        "            main_list[i][j]=2\n",
        "        elif main_list[i][j]=='#':\n",
        "            main_list[i][j]=0\n",
        "\n",
        "from collections import deque\n",
        "def BFS(graph,x,y):\n",
        "    row=len(graph)\n",
        "    column=len(graph[0])\n",
        "    if graph[x][y]==2:\n",
        "        graph[x][y]+=2\n",
        "    array=deque()\n",
        "    array.append((x,y,0))\n",
        "    while array:\n",
        "        r,c,d=array.popleft()\n",
        "        for nr,nc in ((r-1,c),(r,c-1),(r+1,c),(r,c+1)):\n",
        "            if (0<=nr<row and 0<=nc<column and graph[nr][nc]==1) or (0<=nr<row and 0<=nc<column and graph[nr][nc]==2):\n",
        "                graph[nr][nc]+=2\n",
        "                array.append((nr,nc,d+1))\n",
        "    return graph\n",
        "\n",
        "full_list=BFS(main_list,0,0)\n",
        "count=0\n",
        "for lists in full_list:\n",
        "    for num in lists:\n",
        "        if num==4:\n",
        "            count+=1\n",
        "print(str(count),file=f2)\n",
        "f1.close()\n",
        "f2.close()"
      ],
      "metadata": {
        "id": "zeTmBC8tvH9T"
      },
      "execution_count": null,
      "outputs": []
    }
  ]
}