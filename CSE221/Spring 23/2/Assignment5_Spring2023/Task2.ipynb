{
  "nbformat": 4,
  "nbformat_minor": 0,
  "metadata": {
    "colab": {
      "provenance": []
    },
    "kernelspec": {
      "name": "python3",
      "display_name": "Python 3"
    },
    "language_info": {
      "name": "python"
    }
  },
  "cells": [
    {
      "cell_type": "code",
      "source": [
        "#task2\n",
        "f1=open('input2.txt','r')\n",
        "f2=open('output2.txt','w')\n",
        "line=f1.readline()\n",
        "line=line.split()\n",
        "n=int(line[0])\n",
        "c=int(line[1])\n",
        "graph={}\n",
        "\n",
        "count=0\n",
        "while count<c:\n",
        "    line = f1.readline()\n",
        "    line=line.split()\n",
        "    line_alt=[line[1],line[0]]\n",
        "    u=line[0]\n",
        "    v=line[1]\n",
        "    u_alt=line_alt[0]\n",
        "    v_alt=line_alt[1]\n",
        "    if(u in graph):\n",
        "        graph[u].append(v)\n",
        "    else:\n",
        "        graph[u] = [v]\n",
        "    if(u_alt in graph):\n",
        "        graph[u_alt].append(v_alt)\n",
        "    else:\n",
        "        graph[u_alt] = [v_alt]    \n",
        "    count+=1    \n",
        "    \n",
        "visit=[]\n",
        "queue=[]\n",
        "def BFS(visited,graph,source):\n",
        "    visited.append(source)\n",
        "    queue.append(source)\n",
        "    while queue:\n",
        "        source=queue.pop(0)\n",
        "        print(source,end=' ',file=f2)\n",
        "        for connections in graph[source]:\n",
        "            if connections not in visited:\n",
        "                visited.append(connections)\n",
        "                queue.append(connections)\n",
        "                \n",
        "BFS(visit,graph,'1')\n",
        "f1.close()\n",
        "f2.close()"
      ],
      "metadata": {
        "id": "7C3oUU_BuQ1-"
      },
      "execution_count": null,
      "outputs": []
    }
  ]
}