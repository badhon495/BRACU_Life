{
  "nbformat": 4,
  "nbformat_minor": 0,
  "metadata": {
    "colab": {
      "provenance": []
    },
    "kernelspec": {
      "name": "python3",
      "display_name": "Python 3"
    },
    "language_info": {
      "name": "python"
    }
  },
  "cells": [
    {
      "cell_type": "code",
      "source": [
        "#task1(a)\n",
        "f1=open('input1A.txt','r')\n",
        "f2=open('output1A.txt','w')\n",
        "list_1=f1.readline()\n",
        "list_1=list_1.split()\n",
        "for i in range(len(list_1)):\n",
        "    list_1[i]=int(list_1[i])\n",
        "\n",
        "vertices=list_1[0]\n",
        "connections=list_1[1]\n",
        "\n",
        "list_of_list=[]\n",
        "for i in range(vertices+1):\n",
        "    list_of_list.append([0]*(vertices+1))\n",
        "\n",
        "c=0\n",
        "while c<connections:\n",
        "    line=f1.readline()\n",
        "    line=line.split()\n",
        "    row=int(line[0])\n",
        "    column=int(line[1])\n",
        "    list_of_list[row][column]=int(line[2])\n",
        "    c+=1\n",
        "\n",
        "count=0\n",
        "string=''\n",
        "for iteration in list_of_list:\n",
        "    for val in iteration:\n",
        "        string+=str(val)+' '\n",
        "    print(string,file=f2)\n",
        "    string=''\n",
        "f1.close()\n",
        "f2.close()"
      ],
      "metadata": {
        "id": "V6YPbtc0szB-"
      },
      "execution_count": 1,
      "outputs": []
    },
    {
      "cell_type": "code",
      "source": [
        "#task1(b)\n",
        "f1=open('input1B.txt','r')\n",
        "f2=open('output1B.txt','w')\n",
        "list_1=f1.readline()\n",
        "list_1=list_1.split()\n",
        "for i in range(len(list_1)):\n",
        "    list_1[i]=int(list_1[i])\n",
        "\n",
        "vertices=list_1[0]\n",
        "connections=list_1[1]\n",
        "main_list=[]\n",
        "for i in range(vertices+1):\n",
        "    main_list.append([])\n",
        "c=0\n",
        "while c<connections:\n",
        "    line=f1.readline()\n",
        "    line=line.split()\n",
        "    c+=1\n",
        "    index=int(line[0])\n",
        "    inner_list=[]\n",
        "    for i in range(1,len(line)):\n",
        "        inner_list.append(int(line[i]))\n",
        "    main_list[index].append(inner_list)\n",
        "\n",
        "string=''\n",
        "for iteration in range(len(main_list)):\n",
        "    if main_list[iteration]==[]:\n",
        "        print(iteration,':',file=f2)\n",
        "    else:\n",
        "        print(iteration,': ',end='',file=f2)\n",
        "        for lists in main_list[iteration]:\n",
        "            print(lists,end=' ',file=f2)\n",
        "        print(file=f2)\n",
        "f1.close()\n",
        "f2.close()"
      ],
      "metadata": {
        "id": "7UuBx4Qos1Ko"
      },
      "execution_count": 2,
      "outputs": []
    }
  ]
}