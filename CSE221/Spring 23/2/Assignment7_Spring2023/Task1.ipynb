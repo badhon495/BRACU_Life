{
  "nbformat": 4,
  "nbformat_minor": 0,
  "metadata": {
    "colab": {
      "provenance": []
    },
    "kernelspec": {
      "name": "python3",
      "display_name": "Python 3"
    },
    "language_info": {
      "name": "python"
    }
  },
  "cells": [
    {
      "cell_type": "code",
      "source": [
        "#task1\n",
        "with open(\"input1.txt\",\"r\") as inp_file:\n",
        "  with open(\"output1.txt\",\"w\") as out_file:\n",
        "    task_num=int(inp_file.readline())\n",
        "    array1=[]\n",
        "    for i in range(task_num):\n",
        "      task=list(map(int, inp_file.readline().split()))\n",
        "      array1.append(task)\n",
        "    array1.sort(key = lambda x: x[1])     #sorting depend on the 2nd element of the list\n",
        "    #out_file.write(f\"{array1}\\n\")\n",
        "    covered=0\n",
        "    array2=[]\n",
        "    array2.append(array1[0])\n",
        "    covered= array2[0][1]\n",
        "    for i in range(len(array1)):\n",
        "      if array1[i][0] >=covered:\n",
        "        array2.append(array1[i])\n",
        "        covered=array1[i][1]\n",
        "    out_file.write(f\"{len(array2)}\\n\")\n",
        "    #out_file.write(f\"{array2}\\n\")\n",
        "    for i in array2:\n",
        "      out_file.write(f\"{i[0]} {i[1]}\\n\")\n"
      ],
      "metadata": {
        "id": "U8jBHb4qsbwf"
      },
      "execution_count": 3,
      "outputs": []
    }
  ]
}