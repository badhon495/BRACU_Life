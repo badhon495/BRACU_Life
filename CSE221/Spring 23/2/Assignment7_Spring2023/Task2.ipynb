{
  "nbformat": 4,
  "nbformat_minor": 0,
  "metadata": {
    "colab": {
      "provenance": []
    },
    "kernelspec": {
      "name": "python3",
      "display_name": "Python 3"
    },
    "language_info": {
      "name": "python"
    }
  },
  "cells": [
    {
      "cell_type": "code",
      "source": [
        "#task2\n",
        "with open(\"input2.txt\",\"r\") as inp_file:\n",
        "  with open(\"output2.txt\",\"w\") as out_file:\n",
        "    first_line=list(map(int, inp_file.readline().split()))\n",
        "    task_num=first_line[0]\n",
        "    people=first_line[1]\n",
        "    array1=[]\n",
        "    for i in range(task_num):\n",
        "      task=list(map(int,inp_file.readline().split()))\n",
        "      array1.append(task)\n",
        "    #out_file.write(f\"{array1}\\n\")\n",
        "    array1.sort(key = lambda x: x[1])  #sorting\n",
        "    #out_file.write(f\"{array1}\\n\")\n",
        "    covered=[0]*people\n",
        "    covered[0]=array1[0][1]\n",
        "    count=0\n",
        "    for i in range(people):\n",
        "      for j in range(len(array1)):\n",
        "        if array1[j][0] >=covered[i]:\n",
        "          covered[i]=array1[j][1]\n",
        "          count +=1\n",
        "    out_file.write(f\"{count}\")"
      ],
      "metadata": {
        "id": "HwcIqqFjteST"
      },
      "execution_count": 5,
      "outputs": []
    }
  ]
}