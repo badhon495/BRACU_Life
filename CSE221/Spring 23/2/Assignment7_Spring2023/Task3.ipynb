{
  "nbformat": 4,
  "nbformat_minor": 0,
  "metadata": {
    "colab": {
      "provenance": []
    },
    "kernelspec": {
      "name": "python3",
      "display_name": "Python 3"
    },
    "language_info": {
      "name": "python"
    }
  },
  "cells": [
    {
      "cell_type": "code",
      "source": [
        "#task3\n",
        "with open('input3.txt', 'r') as inp_file:\n",
        "  with open(\"output3.txt\",\"w\") as out_file:\n",
        "    first_line=list(map(int, inp_file.readline().split()))\n",
        "    people=first_line[0]\n",
        "    queries=first_line[1]\n",
        "    par = [i for i in range(people+1)]\n",
        "    length = [1] * (people+1)\n",
        "    def find_root(a):\n",
        "        if par[a] == a:\n",
        "            return a\n",
        "        par[a] = find_root(par[a])\n",
        "        return par[a]\n",
        "    def merge_sets(a, b):\n",
        "        a = find_root(a)\n",
        "        b = find_root(b)\n",
        "        if a!=b:\n",
        "            if length[a] > length[b]:\n",
        "                a,b = b,a\n",
        "            par[a] = b\n",
        "            length[b] += length[a]\n",
        "    for i in range(queries):\n",
        "        line=list(map(int, inp_file.readline().split()))\n",
        "        j=line[0]\n",
        "        k=line[1]\n",
        "        merge_sets(j, k)\n",
        "        out_file.write(f\"{length[find_root(j)]}\")"
      ],
      "metadata": {
        "id": "WFC7ud5nrp-1"
      },
      "execution_count": 2,
      "outputs": []
    }
  ]
}