{
  "nbformat": 4,
  "nbformat_minor": 0,
  "metadata": {
    "colab": {
      "provenance": []
    },
    "kernelspec": {
      "name": "python3",
      "display_name": "Python 3"
    },
    "language_info": {
      "name": "python"
    }
  },
  "cells": [
    {
      "cell_type": "code",
      "source": [
        "x= open(\"/content/input1_1.txt\", \"r\")\n",
        "out_file= open(\"/content/output1.txt\",\"w\")\n",
        "arr=list(map(int, x.readline().split()))\n",
        "node=arr[0]\n",
        "edge=arr[1]\n",
        "\n",
        "graph1={}\n",
        "for i in range(1, edge):\n",
        "  if i not in graph1:\n",
        "    graph1[i]={}\n",
        "\n",
        "for i in range(edge):\n",
        "  array1=list(map(int,x.readline().split()))\n",
        "  if array1[0] in graph1:\n",
        "    graph1[array1[0]].update({array1[1]: array1[2]})\n",
        "\n",
        "source=x.readline().strip()\n",
        "\n",
        "def dijkstra(graph, start, destination):\n",
        "  min_distance={}\n",
        "  unvisited_graph = graph.copy()\n",
        "  infinite= 1000000\n",
        "\n",
        "  for i in unvisited_graph:\n",
        "    min_distance[i]= infinite\n",
        "  min_distance[start]=0\n",
        "\n",
        "  while unvisited_graph:\n",
        "\n",
        "    min_distance_node=None\n",
        "\n",
        "    for j in unvisited_graph:\n",
        "      if min_distance_node is None:\n",
        "        min_distance_node= j\n",
        "      elif min_distance[j]< min_distance[min_distance_node]:\n",
        "        min_distance_node= j\n",
        "    \n",
        "    adj_routes =graph[min_distance_node].items()\n",
        "\n",
        "    for child, cost in adj_routes:\n",
        "\n",
        "      if cost+ min_distance[min_distance_node] < min_distance[child]:\n",
        "          min_distance[child]= cost+ min_distance[min_distance_node]\n",
        "\n",
        "    unvisited_graph.pop(min_distance_node)\n",
        "\n",
        "  if min_distance[destination]!=infinite:\n",
        "    print(f'{min_distance[destination]} ', end=\"\", file=out_file)\n",
        "\n",
        "  else:\n",
        "    print(\"-1 \", end=\"\", file=out_file) \n",
        "\n",
        "\n",
        "for i in range(1,node+1):\n",
        "  dijkstra(graph1, int(source), i)\n",
        "\n",
        "\n",
        "out_file.close()     "
      ],
      "metadata": {
        "id": "lZeDE1YIRQ5j"
      },
      "execution_count": 1,
      "outputs": []
    }
  ]
}