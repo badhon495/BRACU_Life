{
  "nbformat": 4,
  "nbformat_minor": 0,
  "metadata": {
    "colab": {
      "provenance": []
    },
    "kernelspec": {
      "name": "python3",
      "display_name": "Python 3"
    },
    "language_info": {
      "name": "python"
    }
  },
  "cells": [
    {
      "cell_type": "code",
      "source": [
        "x= open(\"/content/input3_1.txt\", \"r\")\n",
        "array=list(map(int, x.readline().split()))\n",
        "output_file= open(\"/content/output3.txt\",\"w\")\n",
        "node=array[0]\n",
        "edge=array[1]\n",
        "infinity= 1000000\n",
        "graph1={}\n",
        "for i in range(1, node+1):\n",
        "  if i not in graph1:\n",
        "    graph1[i]={}\n",
        "\n",
        "for i in range(edge):\n",
        "  array1=list(map(int,x.readline().split()))\n",
        "  if array1[0] in graph1:\n",
        "    graph1[array1[0]].update({array1[1]: array1[2]})\n",
        "\n",
        "\n",
        "def dijkstra(graph, start, destination):\n",
        "  minimum_distance={}\n",
        "  unvisited = graph.copy()\n",
        "  infinity= 1000000\n",
        "  track_predecessor={}\n",
        "  track_path=[]\n",
        "  edges={}\n",
        "\n",
        "  for i in unvisited:\n",
        "    minimum_distance[i]= infinity\n",
        "  minimum_distance[start]=0\n",
        "\n",
        "  while unvisited:\n",
        "\n",
        "    min_distance_node=None\n",
        "\n",
        "    for j in unvisited:\n",
        "      if min_distance_node is None:\n",
        "        min_distance_node= j\n",
        "      elif minimum_distance[j]< minimum_distance[min_distance_node]:\n",
        "        min_distance_node= j\n",
        "    \n",
        "    adj_routes =graph[min_distance_node].items()\n",
        "\n",
        "    for child, cost in adj_routes:\n",
        "        \n",
        "      if minimum_distance[min_distance_node] < minimum_distance[child]:\n",
        "          minimum_distance[child]= cost\n",
        "          track_predecessor[child]= min_distance_node\n",
        "          edges[min_distance_node]= cost       \n",
        "\n",
        "    unvisited.pop(min_distance_node)\n",
        "\n",
        "  currentNode=destination\n",
        "\n",
        "  while currentNode!=start:\n",
        "    try:\n",
        "      track_path.insert(0, currentNode)\n",
        "      currentNode =track_predecessor[currentNode]\n",
        "    except KeyError:\n",
        "      print(\"Impossible\",file=output_file)\n",
        "      return\n",
        "  track_path.insert(0, start)\n",
        "\n",
        "  danger=[]\n",
        "  for i in track_path:\n",
        "    danger.append(minimum_distance[i])\n",
        "  print(max(danger), file= output_file)\n",
        "\n",
        "destination= int(input(\"Enter destination: \"))\n",
        "dijkstra(graph1, 1, destination)\n",
        "\n",
        "output_file.close()"
      ],
      "metadata": {
        "colab": {
          "base_uri": "https://localhost:8080/"
        },
        "id": "u2KxrGX3SaVt",
        "outputId": "8ced96da-96d8-4d28-f488-cf1bfc43c3fa"
      },
      "execution_count": 3,
      "outputs": [
        {
          "name": "stdout",
          "output_type": "stream",
          "text": [
            "Enter destination: 4\n"
          ]
        }
      ]
    }
  ]
}