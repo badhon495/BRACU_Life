{
  "nbformat": 4,
  "nbformat_minor": 0,
  "metadata": {
    "colab": {
      "provenance": []
    },
    "kernelspec": {
      "name": "python3",
      "display_name": "Python 3"
    },
    "language_info": {
      "name": "python"
    }
  },
  "cells": [
    {
      "cell_type": "code",
      "source": [
        "#4\n",
        "with open(\"input4.txt\",\"r\") as inp_file:\n",
        "  with open(\"output4.txt\",\"w\") as out_file:\n",
        "    store=inp_file.readline()\n",
        "    id=[int(i) for i in inp_file.readline().split()]\n",
        "    mark=[int(i) for i in inp_file.readline().split()]\n",
        "    result=[]\n",
        "    for i in range(len(id)):\n",
        "      result+=[f\"ID {id[i]} Marks: {mark[i]}\"]\n",
        "    for j in range(len(result)-1,-1,-1):\n",
        "      max=j\n",
        "      for k in range(0,j):\n",
        "        if result[k].split()[3]< result[max].split()[3]:\n",
        "          max=k\n",
        "        elif result[k].split()[3]== result[max].split()[3]:\n",
        "          if result[k].split()[1]> result[max].split()[1]:\n",
        "            max=k\n",
        "      result[j],result[max] = result[max],result[j]\n",
        "    for line in result:\n",
        "      out_file.write(f\"{line}\\n\")"
      ],
      "metadata": {
        "id": "FUkk9iwbsvDI"
      },
      "execution_count": null,
      "outputs": []
    }
  ]
}