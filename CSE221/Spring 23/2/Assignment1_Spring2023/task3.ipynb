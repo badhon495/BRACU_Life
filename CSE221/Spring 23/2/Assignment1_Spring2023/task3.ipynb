{
  "nbformat": 4,
  "nbformat_minor": 0,
  "metadata": {
    "colab": {
      "provenance": []
    },
    "kernelspec": {
      "name": "python3",
      "display_name": "Python 3"
    },
    "language_info": {
      "name": "python"
    }
  },
  "cells": [
    {
      "cell_type": "code",
      "source": [
        "#3\n",
        "with open(\"input3.txt\",\"r\") as inp_file:\n",
        "  with open(\"output3.txt\",\"w\") as out_file:\n",
        "    store=inp_file.readline()\n",
        "    n = int(store)\n",
        "    swapped = True\n",
        "    list1=list(map(int,inp_file.readline().split()))\n",
        "    for i in range(n-1):\n",
        "        swapped = False\n",
        "        for j in range(n-i-1):\n",
        "            if list1[j] > list1[j+1]:\n",
        "                list1[j], list1[j+1] = list1[j+1], list1[j]\n",
        "                swapped = True\n",
        "            if swapped == False:\n",
        "              break\n",
        "    out_file.write(f\"{list1}\")\n",
        "\n",
        "\n",
        "#Explanation:\n",
        "\n",
        "#The best-case scenario for bubble sort occurs when the input array is already sorted in the required order.\n",
        "#To handle this case, we introduce a flag variable swapped that keeps track of whether any swap was made in the current iteration.\n",
        "#If no swaps were made in the current iteration, it means that the array is already sorted, and we can break out of the loop.\n",
        "#If a swap was made in the current iteration, it means that the array is still not sorted, and we need to continue with the next iteration.\n",
        "#By doing this, we avoid checking the elements that are already in their correct positions, reducing the number of operations performed.\n",
        "#The worst-case scenario still remains the same with a time complexity of θ(n2). But this optimization leads to a time complexity of θ(n) for the best-case scenario.\n",
        "        "
      ],
      "metadata": {
        "id": "FUkk9iwbsvDI"
      },
      "execution_count": null,
      "outputs": []
    }
  ]
}