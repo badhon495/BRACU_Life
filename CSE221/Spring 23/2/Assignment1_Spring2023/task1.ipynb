{
  "nbformat": 4,
  "nbformat_minor": 0,
  "metadata": {
    "colab": {
      "provenance": []
    },
    "kernelspec": {
      "name": "python3",
      "display_name": "Python 3"
    },
    "language_info": {
      "name": "python"
    }
  },
  "cells": [
    {
      "cell_type": "code",
      "source": [
        "#1(a)\n",
        "with open(\"input1a.txt\",\"r\") as inp_file:\n",
        "  with open(\"output1a.txt\",\"w\") as out_file:\n",
        "    store=inp_file.readlines()\n",
        "    for i in store[1:]:\n",
        "        i=i.strip()\n",
        "        if int(i)%2==0:\n",
        "          out_file.write(f\"{i} is an even number\\n\")\n",
        "        else:\n",
        "          out_file.write(f\"{i} is an odd number\\n\")\n",
        "\n"
      ],
      "metadata": {
        "id": "FUkk9iwbsvDI"
      },
      "execution_count": null,
      "outputs": []
    },
    {
      "cell_type": "code",
      "source": [
        "#1(b)\n",
        "with open(\"input1b.txt\",\"r\") as inp_file:\n",
        "  with open(\"output1b.txt\",\"w\") as out_file:\n",
        "    store=inp_file.readlines()\n",
        "    for i in store[1:]:\n",
        "      list1=i.split()\n",
        "      if list1[2]==\"+\":\n",
        "        out_file.write(f\"The result of {list1[1]} {list1[2]} {list1[3]} is {int(list1[1])+int(list1[3])}\\n\")\n",
        "      elif list1[2]==\"-\":\n",
        "        out_file.write(f\"The result of {list1[1]} {list1[2]} {list1[3]} is {int(list1[1])-int(list1[3])}\\n\")\n",
        "      elif list1[2]==\"*\":\n",
        "        out_file.write(f\"The result of {list1[1]} {list1[2]} {list1[3]} is {int(list1[1])*int(list1[3])}\\n\")\n",
        "      elif list1[2]==\"/\":\n",
        "        out_file.write(f\"The result of {list1[1]} {list1[2]} {list1[3]} is {int(list1[1])/int(list1[3])}\\n\")\n",
        "        "
      ],
      "metadata": {
        "id": "VsNYeHKCviLW"
      },
      "execution_count": null,
      "outputs": []
    }
  ]
}