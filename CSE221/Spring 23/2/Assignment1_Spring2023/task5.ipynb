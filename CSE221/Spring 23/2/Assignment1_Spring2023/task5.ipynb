{
  "nbformat": 4,
  "nbformat_minor": 0,
  "metadata": {
    "colab": {
      "provenance": []
    },
    "kernelspec": {
      "name": "python3",
      "display_name": "Python 3"
    },
    "language_info": {
      "name": "python"
    }
  },
  "cells": [
    {
      "cell_type": "code",
      "source": [
        "#5\n",
        "with open(\"input5.txt\",\"r\") as inp_file:\n",
        "  with open(\"output5.txt\",\"w\") as out_file:\n",
        "    store=inp_file.readline()\n",
        "    list1=[]\n",
        "    for i in range(int(store)):\n",
        "      list1+=[inp_file.readline()]\n",
        "    list1[-1]=list1[-1]+\"\\\\n\"\n",
        "    for j in range(len(list1)-1,-1,-1):\n",
        "      min_idx=j\n",
        "      for k in range(0,j):\n",
        "        if list1[k].split()[0]> list1[min_idx].split()[0]:\n",
        "          min_idx=k\n",
        "        elif list1[k].split()[0]== list1[min_idx].split()[0]:\n",
        "          if list1[k].split()[-1]< list1[min_idx].split()[-1]:\n",
        "            min_idx=k\n",
        "      list1[j], list1[min_idx] = list1[min_idx], list1[j]\n",
        "    for line in list1:\n",
        "      out_file.write(f\"{line}\\n\")"
      ],
      "metadata": {
        "id": "FUkk9iwbsvDI"
      },
      "execution_count": null,
      "outputs": []
    }
  ]
}