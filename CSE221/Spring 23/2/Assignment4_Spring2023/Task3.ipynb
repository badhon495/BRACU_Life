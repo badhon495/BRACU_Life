{
  "nbformat": 4,
  "nbformat_minor": 0,
  "metadata": {
    "colab": {
      "provenance": []
    },
    "kernelspec": {
      "name": "python3",
      "display_name": "Python 3"
    },
    "language_info": {
      "name": "python"
    }
  },
  "cells": [
    {
      "cell_type": "code",
      "source": [
        "def merge_sort(array1):\n",
        "  if len(array1)<=1:\n",
        "    return array1, 0\n",
        "  mid= len(array1)//2\n",
        "  left=array1[:mid]\n",
        "  right=array1[mid:]\n",
        "  left_sorted, left_inv=merge_sort(left)\n",
        "  right_sorted, right_inv=merge_sort(right)\n",
        "  mergedlist=[]\n",
        "  i,j=0,0\n",
        "  split_inv=0\n",
        "  while i<len(left_sorted) and j<len(right_sorted):\n",
        "    if left_sorted[i]<=right_sorted[j]:\n",
        "      mergedlist.append(left_sorted[i])\n",
        "      i+=1\n",
        "    else:\n",
        "      mergedlist.append(right_sorted[j])\n",
        "      j+=1\n",
        "      split_inv+=len(left_sorted)-i\n",
        "  mergedlist+=left_sorted[i:]\n",
        "  mergedlist+=right_sorted[j:]\n",
        "  return mergedlist, left_inv+right_inv+split_inv\n",
        "\n",
        "\n",
        "inp= open(\"/content/input3.txt\",\"r\")\n",
        "cases= inp.readline().split()\n",
        "array=list(map(int, inp.readline().split()))\n",
        "x=merge_sort(array)\n",
        "print(x[1])"
      ],
      "metadata": {
        "colab": {
          "base_uri": "https://localhost:8080/"
        },
        "id": "herYz9NXQS7N",
        "outputId": "a6683ae7-8619-4128-fa37-c07eae0585da"
      },
      "execution_count": 4,
      "outputs": [
        {
          "output_type": "stream",
          "name": "stdout",
          "text": [
            "11\n"
          ]
        }
      ]
    }
  ]
}