{
  "nbformat": 4,
  "nbformat_minor": 0,
  "metadata": {
    "colab": {
      "provenance": []
    },
    "kernelspec": {
      "name": "python3",
      "display_name": "Python 3"
    },
    "language_info": {
      "name": "python"
    }
  },
  "cells": [
    {
      "cell_type": "code",
      "source": [
        "#Task2\n",
        "def Divide(list1):\n",
        "      if len(list1) >1:\n",
        "        mid = len(list1)//2\n",
        "        L = list1[:mid]\n",
        "        R = list1[mid:]\n",
        "        Divide(L)\n",
        "        Divide(R)\n",
        "        Max(L,R)\n",
        "\n",
        "        \n",
        "max=0 \n",
        "def Max(a,b):\n",
        "      global max\n",
        "      if a[0]>= b[0]:\n",
        "        if a[0] >max:\n",
        "          max= a[0]\n",
        "      else:\n",
        "        if b[0]> max:\n",
        "          max= b[0]\n",
        "    \n",
        "      \n",
        "        \n",
        "array=[5,15,2,3,10,1,9]\n",
        "Divide(array)\n",
        "print(max)"
      ],
      "metadata": {
        "colab": {
          "base_uri": "https://localhost:8080/"
        },
        "id": "mfxjgPSPQDJh",
        "outputId": "ac8e5e60-5770-4396-a4b7-4eb4305ee312"
      },
      "execution_count": 3,
      "outputs": [
        {
          "output_type": "stream",
          "name": "stdout",
          "text": [
            "15\n"
          ]
        }
      ]
    }
  ]
}