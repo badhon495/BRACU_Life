{
  "nbformat": 4,
  "nbformat_minor": 0,
  "metadata": {
    "colab": {
      "provenance": []
    },
    "kernelspec": {
      "name": "python3",
      "display_name": "Python 3"
    },
    "language_info": {
      "name": "python"
    }
  },
  "cells": [
    {
      "cell_type": "code",
      "source": [
        "#task3\n",
        "class Queue:\n",
        "  def __init__(self,capacity):\n",
        "    self.front = self.size = 0\n",
        "    self.rear = capacity -1\n",
        "    self.q = [None]*capacity\n",
        "    self.capacity = capacity\n",
        "\n",
        "  def isFull(self):\n",
        "    return self.size == self.capacity\n",
        "\n",
        "  def isEmpty(self):\n",
        "    return self.size == 0\n",
        "\n",
        "  def Enqueue(self,item):\n",
        "    if self.isFull():\n",
        "      return\n",
        "\n",
        "    self.rear = (self.rear + 1)%(self.capacity)\n",
        "    self.q[self.rear] = item\n",
        "    self.size = self.size +1\n",
        "    self.bubbleSort()\n",
        "\n",
        "  def seeDoctor(self):\n",
        "    if self.isEmpty():\n",
        "      return\n",
        "    self.front = (self.front+1)% (self.capacity)\n",
        "    self.size = self.size-1\n",
        "\n",
        "  def bubbleSort(self):\n",
        "    for i in range(self.front,self.rear+1):\n",
        "      for j in range(self.front+1, self.rear+1):\n",
        "        if(self.q[j-1][1]>self.q[i][1]):\n",
        "          temp = self.q[j-1]\n",
        "          self.q[j-1] = self.q[i]\n",
        "          self.q[i] = temp\n",
        "    return self.q\n",
        "\n",
        "  def printQueue(self):\n",
        "    for i in range(self.front,self.rear+1):\n",
        "      print(str(self.q[i]))\n",
        "\n",
        "with open(\"input3.txt\",\"r\") as inp_file:\n",
        "      lines = inp_file.read().splitlines()\n",
        "      queue = Queue(30)\n",
        "      i = 0\n",
        "      while True:\n",
        "        try:\n",
        "          a,b = lines[i].split()\n",
        "        except:\n",
        "          break\n",
        "        if b!= \"doctor\":\n",
        "          b = int(b)\n",
        "          queue.Enqueue(a)\n",
        "        else:\n",
        "          queue.seeDoctor()\n",
        "\n",
        "        i += 1\n",
        "\n",
        "queue.printQueue()"
      ],
      "metadata": {
        "colab": {
          "base_uri": "https://localhost:8080/"
        },
        "id": "D4Js0le8E4qg",
        "outputId": "1ed4c489-d193-4ec3-dac0-f44e71817475"
      },
      "execution_count": 4,
      "outputs": [
        {
          "output_type": "stream",
          "name": "stdout",
          "text": [
            "OPN\n",
            "EWQ\n",
            "TYU\n"
          ]
        }
      ]
    }
  ]
}