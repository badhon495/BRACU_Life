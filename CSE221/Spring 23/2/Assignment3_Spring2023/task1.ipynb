{
  "nbformat": 4,
  "nbformat_minor": 0,
  "metadata": {
    "colab": {
      "provenance": []
    },
    "kernelspec": {
      "name": "python3",
      "display_name": "Python 3"
    },
    "language_info": {
      "name": "python"
    }
  },
  "cells": [
    {
      "cell_type": "code",
      "source": [
        "#Task1(a)\n",
        "def partition(arr,l,r):\n",
        "  pivot = arr[r]\n",
        "  i = l-1\n",
        "\n",
        "  for j in range(l,r):\n",
        "    if arr[j]<pivot:\n",
        "      i = i+1\n",
        "      arr[i],arr[j] = arr[j],arr[i]\n",
        "\n",
        "  arr[i + 1], arr[r] = arr[r], arr[i+1]\n",
        "  return (i+1)\n",
        "\n",
        "def quickSort(arr,low,high):\n",
        "  if low<high:\n",
        "    pi = partition(arr, low, high)\n",
        "    quickSort(arr, low, pi - 1)  \n",
        "    quickSort(arr, pi + 1, high) \n",
        "  return arr\n",
        "\n",
        "with open(\"input1a.txt\",\"r\") as inp_file:\n",
        "  with open(\"output1a.txt\",\"w\") as out_file:\n",
        "    array1=list(map(int,inp_file.readline().split()))\n",
        "    array2=quickSort(array1,0,len(array1)-1)\n",
        "    out_file.write(f\"{array2}\")"
      ],
      "metadata": {
        "id": "oXYDr2-gCwNe"
      },
      "execution_count": 1,
      "outputs": []
    },
    {
      "cell_type": "code",
      "source": [
        "#Task1(b)\n",
        "def partition(arr,l,r):\n",
        "  pivot = arr[r]\n",
        "  i = l-1\n",
        "\n",
        "  for j in range(l,r):\n",
        "    if arr[j]<pivot:\n",
        "      i = i+1\n",
        "  return (i+1)\n",
        "\n",
        "def findK(arr,k):\n",
        "  partition(arr, 0, len(arr)-1)\n",
        "  arr=arr[0:k+1]\n",
        "  return arr[-2]\n",
        "with open(\"input1b.txt\",\"r\") as inp_file:\n",
        "  with open(\"output1b.txt\",\"w\") as out_file:\n",
        "      array=list(inp_file.readline().split(\" \"))\n",
        "      x1=findK(array, 5)\n",
        "      x2 = findK(array, 7)\n",
        "      x3 = findK(array, 2)\n",
        "      out_file.write(f\"{x1},{x2},{x3}\")"
      ],
      "metadata": {
        "id": "1Izx70rEDl_b"
      },
      "execution_count": 2,
      "outputs": []
    }
  ]
}