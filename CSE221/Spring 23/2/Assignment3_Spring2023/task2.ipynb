{
  "nbformat": 4,
  "nbformat_minor": 0,
  "metadata": {
    "colab": {
      "provenance": []
    },
    "kernelspec": {
      "name": "python3",
      "display_name": "Python 3"
    },
    "language_info": {
      "name": "python"
    }
  },
  "cells": [
    {
      "cell_type": "code",
      "source": [
        "#task2\n",
        "import sys\n",
        "class MinHeap:\n",
        "  def __init__(self,maxsize):\n",
        "    self.maxsize = maxsize\n",
        "    self.size = 0\n",
        "    self.heap = [0]*(self.maxsize+1)\n",
        "    self.heap[0] = -1*sys.maxsize\n",
        "    self.front = 1\n",
        "\n",
        "  def parent(self, node):\n",
        "    return node//2\n",
        "  def leftchild(self,node):\n",
        "    return 2*node\n",
        "  def rightchild(self, node):\n",
        "    return (2*node)+1\n",
        "  def leaf(self,node):\n",
        "    return node*2 > self.size\n",
        "  def swimup(self,fpos,spos):\n",
        "    self.heap[fpos],self.heap[spos] = self.heap[spos], self.heap[fpos]\n",
        "  def heapify(self, node):\n",
        "    if not self.leaf(node):\n",
        "      if (self.heap[node]>self.heap[self.leftchild(node)]) or (self.heap[node]>self.heap[self.rightchild(node)]):\n",
        "        if self.heap[self.leftchild(node)] < self.heap[self.rightchild(node)]:\n",
        "          self.swimup(node,self.leftchild(node))\n",
        "          self.heapify(self.leftchild(node))\n",
        "        else:\n",
        "          self.swimup(node,self.rightchild(node))\n",
        "          self.heapify(self.rightchild(node))\n",
        "\n",
        "  def add(self,element):\n",
        "    if self.size >= self.maxsize:\n",
        "      return\n",
        "\n",
        "    self.size += 1\n",
        "    self.heap[self.size] = element\n",
        "    current = self.size\n",
        "    while self.heap[current]<self.heap[self.parent(current)]:\n",
        "      self.swimup(current,self.parent(current))\n",
        "      current = self.parent(current)\n",
        "\n",
        "  def Print(self):\n",
        "    for i in range(1,(self.size//2)+1):\n",
        "      print(f\"Parent:{str(self.heap[i])} Left Child:{str(self.heap[2*i])} Right Child:{str(self.heap[2*i+1])}\")\n",
        "\n",
        "  def build(self):\n",
        "    for pos in range(self.size//2,0,-1):\n",
        "      self.heapify(pos)\n",
        "\n",
        "  def delete(self):\n",
        "    popped = self.heap[self.front]\n",
        "    self.heap[self.front] = self.heap[self.size]\n",
        "    self.size -= 1\n",
        "    self.heapify(self.front)\n",
        "    return popped\n",
        "\n",
        "  def heapSort(self):\n",
        "    n = self.size\n",
        "    ans = []\n",
        "    for i in range(n):\n",
        "      ans.append(self.delete())\n",
        "    return ans\n",
        "\n",
        "new = MinHeap(7)\n",
        "new. add(3)\n",
        "new. add(6)\n",
        "new. add(2)\n",
        "new. add(102)\n",
        "new. add(3)\n",
        "new.delete()\n",
        "new.Print()"
      ],
      "metadata": {
        "colab": {
          "base_uri": "https://localhost:8080/"
        },
        "id": "yBKok6PHEnyi",
        "outputId": "f766211b-8b7a-4fa0-84ea-9e91912ef07b"
      },
      "execution_count": 3,
      "outputs": [
        {
          "output_type": "stream",
          "name": "stdout",
          "text": [
            "Parent:3 Left Child:3 Right Child:6\n",
            "Parent:3 Left Child:102 Right Child:6\n"
          ]
        }
      ]
    }
  ]
}