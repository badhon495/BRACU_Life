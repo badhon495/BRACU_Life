{
 "cells": [
  {
   "cell_type": "code",
   "execution_count": null,
   "id": "951124bb",
   "metadata": {},
   "outputs": [],
   "source": [
    "#TASK_4\n",
    "file=open('input_4.txt')\n",
    "lst=file.readlines()\n",
    "n=int(lst[0])\n",
    "lst2=[]\n",
    "for j in lst:\n",
    "    temp=j.split()\n",
    "    temp=list(map(int,temp))\n",
    "    lst2.append(temp)\n",
    "\n",
    "l1=lst2[2:lst2[1][1]+2]\n",
    "l2=lst2[len(l1)+2+1:] \n",
    "graph1={}\n",
    "for i in range(len(l1)):\n",
    "    if l1[i][0] in graph1.keys():\n",
    "        graph1[l1[i][0]]+=[l1[i][1]]\n",
    "    else: graph1[l1[i][0]]=[l1[i][1]]\n",
    "        \n",
    "graph2={}\n",
    "for j in range(len(l2)):\n",
    "    if l2[j][0] in graph2.keys():\n",
    "        graph2[l2[j][0]]+=[l2[j][1]]\n",
    "    else: graph2[l2[j][0]]=[l2[j][1]]\n",
    "# print(graph1)\n",
    "# print(graph2)\n",
    "\n",
    "\n",
    "def BFS(vertices,graph,node,endPoint):\n",
    "\n",
    "    visited = []*vertices\n",
    "    queue = []\n",
    "    visited.append(node)\n",
    "    queue.append(node)\n",
    "    dist = 0\n",
    "    while queue:\n",
    "        m = queue.pop(0)\n",
    "\n",
    "        if m != endPoint:\n",
    "            for neighbour in graph[m]:\n",
    "                if neighbour not in visited:\n",
    "                    visited.append(neighbour)\n",
    "                    queue.append(neighbour)\n",
    "                    if neighbour == endPoint:\n",
    "                        return dist\n",
    "                    dist += 1\n",
    " \n",
    "\n",
    "        else:\n",
    "            return dist\n",
    "f=open('output_4','w')\n",
    "\n",
    "f.write(str(BFS(len(l1), graph1, 1, 3))+'\\n')    \n",
    "f.write(str(BFS(len(l2), graph2, 1, 4)))    \n",
    "file.close()\n",
    "f.close()"
   ]
  }
 ],
 "metadata": {
  "kernelspec": {
   "display_name": "Python 3",
   "language": "python",
   "name": "python3"
  },
  "language_info": {
   "codemirror_mode": {
    "name": "ipython",
    "version": 3
   },
   "file_extension": ".py",
   "mimetype": "text/x-python",
   "name": "python",
   "nbconvert_exporter": "python",
   "pygments_lexer": "ipython3",
   "version": "3.8.8"
  }
 },
 "nbformat": 4,
 "nbformat_minor": 5
}
