{
 "cells": [
  {
   "cell_type": "code",
   "execution_count": null,
   "id": "6280942d",
   "metadata": {},
   "outputs": [],
   "source": [
    "#TASK_2\n",
    "file=open('input_1.txt')\n",
    "lst=file.readlines()\n",
    "n=int(lst[0])\n",
    "graph={}\n",
    "for i in lst[1:]:\n",
    "    temp= i.split()\n",
    "    #temp=list(map(int,temp))\n",
    "    graph[temp[0]]=[]\n",
    "    for j in range(1,len(temp)):\n",
    "        graph[temp[0]]+=[temp[j]]\n",
    "print(graph)\n",
    "file.close()\n",
    "\n",
    "def BFS(visited,graph,node,endPoint):\n",
    "    visited[int(node)-1]=1\n",
    "    queue.append(node)\n",
    "    file2=open('output_2','w')\n",
    "    while queue is not None:\n",
    "        m=queue.pop(0)\n",
    "        file2.write(str(m+' '))\n",
    "        if m == endPoint: break\n",
    "        for neighbour in graph[m]:\n",
    "            if visited[int(neighbour)-1] == 0:\n",
    "                visited[int(neighbour)-1] = 1\n",
    "                queue.append(neighbour)\n",
    "    file2.close()\n",
    "visited=[0]*n\n",
    "queue=[]            \n",
    "BFS(visited, graph, '1', '12')\n",
    "\n"
   ]
  }
 ],
 "metadata": {
  "kernelspec": {
   "display_name": "Python 3",
   "language": "python",
   "name": "python3"
  },
  "language_info": {
   "codemirror_mode": {
    "name": "ipython",
    "version": 3
   },
   "file_extension": ".py",
   "mimetype": "text/x-python",
   "name": "python",
   "nbconvert_exporter": "python",
   "pygments_lexer": "ipython3",
   "version": "3.8.8"
  }
 },
 "nbformat": 4,
 "nbformat_minor": 5
}
