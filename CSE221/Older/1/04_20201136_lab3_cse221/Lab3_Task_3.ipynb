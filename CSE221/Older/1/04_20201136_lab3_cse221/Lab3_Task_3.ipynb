{
 "cells": [
  {
   "cell_type": "code",
   "execution_count": null,
   "id": "eb13b0d1",
   "metadata": {},
   "outputs": [],
   "source": [
    "#TASK_3\n",
    "file=open('input_1.txt')\n",
    "lst=file.readlines()\n",
    "n=int(lst[0])\n",
    "graph={}\n",
    "for i in lst[1:]:\n",
    "    temp= i.split()\n",
    "    #temp=list(map(int,temp))\n",
    "    graph[temp[0]]=[]\n",
    "    for j in range(1,len(temp)):\n",
    "        graph[temp[0]]+=[temp[j]]\n",
    "print(graph)\n",
    "file.close()\n",
    "\n",
    "visited=[0]*n\n",
    "printed=[]\n",
    "def DFS_VISIT(graph,node):\n",
    "    visited[int(node)-1]=1\n",
    "    printed.append(node)\n",
    "    for item in graph[node]:\n",
    "        if item not in visited:\n",
    "            DFS_VISIT(graph,item)\n",
    "            \n",
    "def DFS(graph, endPoint):\n",
    "    for node in graph:\n",
    "        if node not in visited:\n",
    "            DFS_VISIT(graph,node)\n",
    "    file3=open('output_3','w')\n",
    "    for x in range(int(endPoint)):\n",
    "        if printed[x] != endPoint:\n",
    "            file3.write(str(printed[x])+\" \")\n",
    "        else:\n",
    "            file3.write(str(printed[x]))\n",
    "            break\n",
    "    file3.close()\n",
    "    \n",
    "DFS(graph, '12')"
   ]
  }
 ],
 "metadata": {
  "kernelspec": {
   "display_name": "Python 3",
   "language": "python",
   "name": "python3"
  },
  "language_info": {
   "codemirror_mode": {
    "name": "ipython",
    "version": 3
   },
   "file_extension": ".py",
   "mimetype": "text/x-python",
   "name": "python",
   "nbconvert_exporter": "python",
   "pygments_lexer": "ipython3",
   "version": "3.8.8"
  }
 },
 "nbformat": 4,
 "nbformat_minor": 5
}
