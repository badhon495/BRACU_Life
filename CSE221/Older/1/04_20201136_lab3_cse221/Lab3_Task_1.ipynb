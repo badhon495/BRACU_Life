{
 "cells": [
  {
   "cell_type": "code",
   "execution_count": null,
   "id": "47d2dd56",
   "metadata": {},
   "outputs": [],
   "source": [
    "#TASK_1\n",
    "file=open('input_1.txt')\n",
    "lst=file.readlines()\n",
    "n=int(lst[0])\n",
    "graph={}\n",
    "for i in lst[1:]:\n",
    "    temp= i.split()\n",
    "    #temp=list(map(int,temp))\n",
    "    graph[temp[0]]=[]\n",
    "    for j in range(1,len(temp)):\n",
    "        graph[temp[0]]+=[temp[j]]\n",
    "print(graph)\n",
    "file.close()\n"
   ]
  }
 ],
 "metadata": {
  "kernelspec": {
   "display_name": "Python 3",
   "language": "python",
   "name": "python3"
  },
  "language_info": {
   "codemirror_mode": {
    "name": "ipython",
    "version": 3
   },
   "file_extension": ".py",
   "mimetype": "text/x-python",
   "name": "python",
   "nbconvert_exporter": "python",
   "pygments_lexer": "ipython3",
   "version": "3.8.8"
  }
 },
 "nbformat": 4,
 "nbformat_minor": 5
}
